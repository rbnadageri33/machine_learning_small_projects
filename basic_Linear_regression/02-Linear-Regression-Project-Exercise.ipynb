{
 "cells": [
  {
   "cell_type": "markdown",
   "metadata": {},
   "source": [
    "Now that we have learned about feature engineering, cross validation, and grid search, let's test all your new skills with a project exercise in Machine Learning. This exercise will have a more guided approach, later on the ML projects will begin to be more open-ended. We'll start off with using the final version of the Ames Housing dataset we worked on through the feature engineering section of the course. Your goal will be to create a Linear Regression Model, train it on the data with the optimal parameters using a grid search, and then evaluate the model's capabilities on a test set."
   ]
  },
  {
   "cell_type": "markdown",
   "metadata": {},
   "source": [
    "---\n",
    "---\n",
    "---\n",
    "## Complete the tasks in bold\n",
    "\n",
    "**TASK: Run the cells under the Imports and Data section to make sure you have imported the correct general libraries as well as the correct datasets. Later on you may need to run further imports from scikit-learn.**\n",
    "\n",
    "### Imports"
   ]
  },
  {
   "cell_type": "code",
   "execution_count": 1,
   "metadata": {},
   "outputs": [],
   "source": [
    "import numpy as np\n",
    "import pandas as pd\n",
    "import matplotlib.pyplot as plt\n",
    "import seaborn as sns"
   ]
  },
  {
   "cell_type": "markdown",
   "metadata": {},
   "source": [
    "### Data"
   ]
  },
  {
   "cell_type": "code",
   "execution_count": 2,
   "metadata": {},
   "outputs": [],
   "source": [
    "df = pd.read_csv(\"../DATA/AMES_Final_DF.csv\")"
   ]
  },
  {
   "cell_type": "code",
   "execution_count": 3,
   "metadata": {},
   "outputs": [
    {
     "data": {
      "text/html": [
       "<div>\n",
       "<style scoped>\n",
       "    .dataframe tbody tr th:only-of-type {\n",
       "        vertical-align: middle;\n",
       "    }\n",
       "\n",
       "    .dataframe tbody tr th {\n",
       "        vertical-align: top;\n",
       "    }\n",
       "\n",
       "    .dataframe thead th {\n",
       "        text-align: right;\n",
       "    }\n",
       "</style>\n",
       "<table border=\"1\" class=\"dataframe\">\n",
       "  <thead>\n",
       "    <tr style=\"text-align: right;\">\n",
       "      <th></th>\n",
       "      <th>Lot Frontage</th>\n",
       "      <th>Lot Area</th>\n",
       "      <th>Overall Qual</th>\n",
       "      <th>Overall Cond</th>\n",
       "      <th>Year Built</th>\n",
       "      <th>Year Remod/Add</th>\n",
       "      <th>Mas Vnr Area</th>\n",
       "      <th>BsmtFin SF 1</th>\n",
       "      <th>BsmtFin SF 2</th>\n",
       "      <th>Bsmt Unf SF</th>\n",
       "      <th>...</th>\n",
       "      <th>Sale Type_ConLw</th>\n",
       "      <th>Sale Type_New</th>\n",
       "      <th>Sale Type_Oth</th>\n",
       "      <th>Sale Type_VWD</th>\n",
       "      <th>Sale Type_WD</th>\n",
       "      <th>Sale Condition_AdjLand</th>\n",
       "      <th>Sale Condition_Alloca</th>\n",
       "      <th>Sale Condition_Family</th>\n",
       "      <th>Sale Condition_Normal</th>\n",
       "      <th>Sale Condition_Partial</th>\n",
       "    </tr>\n",
       "  </thead>\n",
       "  <tbody>\n",
       "    <tr>\n",
       "      <th>0</th>\n",
       "      <td>141.0</td>\n",
       "      <td>31770</td>\n",
       "      <td>6</td>\n",
       "      <td>5</td>\n",
       "      <td>1960</td>\n",
       "      <td>1960</td>\n",
       "      <td>112.0</td>\n",
       "      <td>639.0</td>\n",
       "      <td>0.0</td>\n",
       "      <td>441.0</td>\n",
       "      <td>...</td>\n",
       "      <td>0</td>\n",
       "      <td>0</td>\n",
       "      <td>0</td>\n",
       "      <td>0</td>\n",
       "      <td>1</td>\n",
       "      <td>0</td>\n",
       "      <td>0</td>\n",
       "      <td>0</td>\n",
       "      <td>1</td>\n",
       "      <td>0</td>\n",
       "    </tr>\n",
       "    <tr>\n",
       "      <th>1</th>\n",
       "      <td>80.0</td>\n",
       "      <td>11622</td>\n",
       "      <td>5</td>\n",
       "      <td>6</td>\n",
       "      <td>1961</td>\n",
       "      <td>1961</td>\n",
       "      <td>0.0</td>\n",
       "      <td>468.0</td>\n",
       "      <td>144.0</td>\n",
       "      <td>270.0</td>\n",
       "      <td>...</td>\n",
       "      <td>0</td>\n",
       "      <td>0</td>\n",
       "      <td>0</td>\n",
       "      <td>0</td>\n",
       "      <td>1</td>\n",
       "      <td>0</td>\n",
       "      <td>0</td>\n",
       "      <td>0</td>\n",
       "      <td>1</td>\n",
       "      <td>0</td>\n",
       "    </tr>\n",
       "    <tr>\n",
       "      <th>2</th>\n",
       "      <td>81.0</td>\n",
       "      <td>14267</td>\n",
       "      <td>6</td>\n",
       "      <td>6</td>\n",
       "      <td>1958</td>\n",
       "      <td>1958</td>\n",
       "      <td>108.0</td>\n",
       "      <td>923.0</td>\n",
       "      <td>0.0</td>\n",
       "      <td>406.0</td>\n",
       "      <td>...</td>\n",
       "      <td>0</td>\n",
       "      <td>0</td>\n",
       "      <td>0</td>\n",
       "      <td>0</td>\n",
       "      <td>1</td>\n",
       "      <td>0</td>\n",
       "      <td>0</td>\n",
       "      <td>0</td>\n",
       "      <td>1</td>\n",
       "      <td>0</td>\n",
       "    </tr>\n",
       "    <tr>\n",
       "      <th>3</th>\n",
       "      <td>93.0</td>\n",
       "      <td>11160</td>\n",
       "      <td>7</td>\n",
       "      <td>5</td>\n",
       "      <td>1968</td>\n",
       "      <td>1968</td>\n",
       "      <td>0.0</td>\n",
       "      <td>1065.0</td>\n",
       "      <td>0.0</td>\n",
       "      <td>1045.0</td>\n",
       "      <td>...</td>\n",
       "      <td>0</td>\n",
       "      <td>0</td>\n",
       "      <td>0</td>\n",
       "      <td>0</td>\n",
       "      <td>1</td>\n",
       "      <td>0</td>\n",
       "      <td>0</td>\n",
       "      <td>0</td>\n",
       "      <td>1</td>\n",
       "      <td>0</td>\n",
       "    </tr>\n",
       "    <tr>\n",
       "      <th>4</th>\n",
       "      <td>74.0</td>\n",
       "      <td>13830</td>\n",
       "      <td>5</td>\n",
       "      <td>5</td>\n",
       "      <td>1997</td>\n",
       "      <td>1998</td>\n",
       "      <td>0.0</td>\n",
       "      <td>791.0</td>\n",
       "      <td>0.0</td>\n",
       "      <td>137.0</td>\n",
       "      <td>...</td>\n",
       "      <td>0</td>\n",
       "      <td>0</td>\n",
       "      <td>0</td>\n",
       "      <td>0</td>\n",
       "      <td>1</td>\n",
       "      <td>0</td>\n",
       "      <td>0</td>\n",
       "      <td>0</td>\n",
       "      <td>1</td>\n",
       "      <td>0</td>\n",
       "    </tr>\n",
       "  </tbody>\n",
       "</table>\n",
       "<p>5 rows × 274 columns</p>\n",
       "</div>"
      ],
      "text/plain": [
       "   Lot Frontage  Lot Area  Overall Qual  Overall Cond  Year Built  \\\n",
       "0         141.0     31770             6             5        1960   \n",
       "1          80.0     11622             5             6        1961   \n",
       "2          81.0     14267             6             6        1958   \n",
       "3          93.0     11160             7             5        1968   \n",
       "4          74.0     13830             5             5        1997   \n",
       "\n",
       "   Year Remod/Add  Mas Vnr Area  BsmtFin SF 1  BsmtFin SF 2  Bsmt Unf SF  ...  \\\n",
       "0            1960         112.0         639.0           0.0        441.0  ...   \n",
       "1            1961           0.0         468.0         144.0        270.0  ...   \n",
       "2            1958         108.0         923.0           0.0        406.0  ...   \n",
       "3            1968           0.0        1065.0           0.0       1045.0  ...   \n",
       "4            1998           0.0         791.0           0.0        137.0  ...   \n",
       "\n",
       "   Sale Type_ConLw  Sale Type_New  Sale Type_Oth  Sale Type_VWD  \\\n",
       "0                0              0              0              0   \n",
       "1                0              0              0              0   \n",
       "2                0              0              0              0   \n",
       "3                0              0              0              0   \n",
       "4                0              0              0              0   \n",
       "\n",
       "   Sale Type_WD   Sale Condition_AdjLand  Sale Condition_Alloca  \\\n",
       "0              1                       0                      0   \n",
       "1              1                       0                      0   \n",
       "2              1                       0                      0   \n",
       "3              1                       0                      0   \n",
       "4              1                       0                      0   \n",
       "\n",
       "   Sale Condition_Family  Sale Condition_Normal  Sale Condition_Partial  \n",
       "0                      0                      1                       0  \n",
       "1                      0                      1                       0  \n",
       "2                      0                      1                       0  \n",
       "3                      0                      1                       0  \n",
       "4                      0                      1                       0  \n",
       "\n",
       "[5 rows x 274 columns]"
      ]
     },
     "execution_count": 3,
     "metadata": {},
     "output_type": "execute_result"
    }
   ],
   "source": [
    "df.head()"
   ]
  },
  {
   "cell_type": "code",
   "execution_count": 9,
   "metadata": {},
   "outputs": [
    {
     "data": {
      "text/plain": [
       "Lot Frontage  Lot Area  Overall Qual  Overall Cond  Year Built  Year Remod/Add  Mas Vnr Area  BsmtFin SF 1  BsmtFin SF 2  Bsmt Unf SF  Total Bsmt SF  1st Flr SF  2nd Flr SF  Low Qual Fin SF  Gr Liv Area  Bsmt Full Bath  Bsmt Half Bath  Full Bath  Half Bath  Bedroom AbvGr  Kitchen AbvGr  TotRms AbvGrd  Fireplaces  Garage Yr Blt  Garage Cars  Garage Area  Wood Deck SF  Open Porch SF  Enclosed Porch  3Ssn Porch  Screen Porch  Pool Area  Misc Val  Mo Sold  Yr Sold  SalePrice  MS SubClass_150  MS SubClass_160  MS SubClass_180  MS SubClass_190  MS SubClass_20  MS SubClass_30  MS SubClass_40  MS SubClass_45  MS SubClass_50  MS SubClass_60  MS SubClass_70  MS SubClass_75  MS SubClass_80  MS SubClass_85  MS SubClass_90  MS Zoning_C (all)  MS Zoning_FV  MS Zoning_I (all)  MS Zoning_RH  MS Zoning_RL  MS Zoning_RM  Street_Pave  Lot Shape_IR2  Lot Shape_IR3  Lot Shape_Reg  Land Contour_HLS  Land Contour_Low  Land Contour_Lvl  Utilities_NoSeWa  Utilities_NoSewr  Lot Config_CulDSac  Lot Config_FR2  Lot Config_FR3  Lot Config_Inside  Land Slope_Mod  Land Slope_Sev  Neighborhood_Blueste  Neighborhood_BrDale  Neighborhood_BrkSide  Neighborhood_ClearCr  Neighborhood_CollgCr  Neighborhood_Crawfor  Neighborhood_Edwards  Neighborhood_Gilbert  Neighborhood_Greens  Neighborhood_GrnHill  Neighborhood_IDOTRR  Neighborhood_Landmrk  Neighborhood_MeadowV  Neighborhood_Mitchel  Neighborhood_NAmes  Neighborhood_NPkVill  Neighborhood_NWAmes  Neighborhood_NoRidge  Neighborhood_NridgHt  Neighborhood_OldTown  Neighborhood_SWISU  Neighborhood_Sawyer  Neighborhood_SawyerW  Neighborhood_Somerst  Neighborhood_StoneBr  Neighborhood_Timber  Neighborhood_Veenker  Condition 1_Feedr  Condition 1_Norm  Condition 1_PosA  Condition 1_PosN  Condition 1_RRAe  Condition 1_RRAn  Condition 1_RRNe  Condition 1_RRNn  Condition 2_Feedr  Condition 2_Norm  Condition 2_PosA  Condition 2_PosN  Condition 2_RRAe  Condition 2_RRAn  Condition 2_RRNn  Bldg Type_2fmCon  Bldg Type_Duplex  Bldg Type_Twnhs  Bldg Type_TwnhsE  House Style_1.5Unf  House Style_1Story  House Style_2.5Fin  House Style_2.5Unf  House Style_2Story  House Style_SFoyer  House Style_SLvl  Roof Style_Gable  Roof Style_Gambrel  Roof Style_Hip  Roof Style_Mansard  Roof Style_Shed  Roof Matl_Membran  Roof Matl_Metal  Roof Matl_Roll  Roof Matl_Tar&Grv  Roof Matl_WdShake  Roof Matl_WdShngl  Exterior 1st_AsphShn  Exterior 1st_BrkComm  Exterior 1st_BrkFace  Exterior 1st_CBlock  Exterior 1st_CemntBd  Exterior 1st_HdBoard  Exterior 1st_ImStucc  Exterior 1st_MetalSd  Exterior 1st_Plywood  Exterior 1st_PreCast  Exterior 1st_Stone  Exterior 1st_Stucco  Exterior 1st_VinylSd  Exterior 1st_Wd Sdng  Exterior 1st_WdShing  Exterior 2nd_AsphShn  Exterior 2nd_Brk Cmn  Exterior 2nd_BrkFace  Exterior 2nd_CBlock  Exterior 2nd_CmentBd  Exterior 2nd_HdBoard  Exterior 2nd_ImStucc  Exterior 2nd_MetalSd  Exterior 2nd_Other  Exterior 2nd_Plywood  Exterior 2nd_PreCast  Exterior 2nd_Stone  Exterior 2nd_Stucco  Exterior 2nd_VinylSd  Exterior 2nd_Wd Sdng  Exterior 2nd_Wd Shng  Mas Vnr Type_BrkFace  Mas Vnr Type_CBlock  Mas Vnr Type_None  Mas Vnr Type_Stone  Exter Qual_Fa  Exter Qual_Gd  Exter Qual_TA  Exter Cond_Fa  Exter Cond_Gd  Exter Cond_Po  Exter Cond_TA  Foundation_CBlock  Foundation_PConc  Foundation_Slab  Foundation_Stone  Foundation_Wood  Bsmt Qual_Fa  Bsmt Qual_Gd  Bsmt Qual_None  Bsmt Qual_Po  Bsmt Qual_TA  Bsmt Cond_Fa  Bsmt Cond_Gd  Bsmt Cond_None  Bsmt Cond_Po  Bsmt Cond_TA  Bsmt Exposure_Gd  Bsmt Exposure_Mn  Bsmt Exposure_No  Bsmt Exposure_None  BsmtFin Type 1_BLQ  BsmtFin Type 1_GLQ  BsmtFin Type 1_LwQ  BsmtFin Type 1_None  BsmtFin Type 1_Rec  BsmtFin Type 1_Unf  BsmtFin Type 2_BLQ  BsmtFin Type 2_GLQ  BsmtFin Type 2_LwQ  BsmtFin Type 2_None  BsmtFin Type 2_Rec  BsmtFin Type 2_Unf  Heating_GasA  Heating_GasW  Heating_Grav  Heating_OthW  Heating_Wall  Heating QC_Fa  Heating QC_Gd  Heating QC_Po  Heating QC_TA  Central Air_Y  Electrical_FuseF  Electrical_FuseP  Electrical_Mix  Electrical_SBrkr  Kitchen Qual_Fa  Kitchen Qual_Gd  Kitchen Qual_Po  Kitchen Qual_TA  Functional_Maj2  Functional_Min1  Functional_Min2  Functional_Mod  Functional_Sal  Functional_Sev  Functional_Typ  Fireplace Qu_Fa  Fireplace Qu_Gd  Fireplace Qu_None  Fireplace Qu_Po  Fireplace Qu_TA  Garage Type_Attchd  Garage Type_Basment  Garage Type_BuiltIn  Garage Type_CarPort  Garage Type_Detchd  Garage Type_None  Garage Finish_None  Garage Finish_RFn  Garage Finish_Unf  Garage Qual_Fa  Garage Qual_Gd  Garage Qual_None  Garage Qual_Po  Garage Qual_TA  Garage Cond_Fa  Garage Cond_Gd  Garage Cond_None  Garage Cond_Po  Garage Cond_TA  Paved Drive_P  Paved Drive_Y  Sale Type_CWD  Sale Type_Con  Sale Type_ConLD  Sale Type_ConLI  Sale Type_ConLw  Sale Type_New  Sale Type_Oth  Sale Type_VWD  Sale Type_WD   Sale Condition_AdjLand  Sale Condition_Alloca  Sale Condition_Family  Sale Condition_Normal  Sale Condition_Partial\n",
       "0.000000      3612      6             5             1993        1994            0.0           338.0         0.0           292.0        630.0          630         690         0                1320         0.0             0.0             2          1          3              1              5              0           1993.0         2.0          484.0        0             48             0               0           0             0          0         6        2006     137000     0                1                0                0                0               0               0               0               0               0               0               0               0               0               0               0                  0             0                  1             0             0             1            0              0              0              0                 0                 1                 0                 0                 0                   0               0               1                  0               0               0                     0                    0                     0                     0                     0                     0                     0                     0                    0                     0                    1                     0                     0                     0                   0                     0                    0                     0                     0                     0                   0                    0                     0                     0                     0                    0                     0                  1                 0                 0                 0                 0                 0                 0                 0                  1                 0                 0                 0                 0                 0                 0                 0                 1                0                 0                   0                   0                   0                   1                   0                   0                 1                 0                   0               0                   0                0                  0                0               0                  0                  0                  0                     0                     0                     0                    0                     0                     0                     0                     0                     0                     0                   0                    1                     0                     0                     0                     0                     0                     0                    0                     0                     0                     0                     0                   0                     0                     0                   0                    1                     0                     0                     0                     0                    1                  0                   0              0              1              0              0              0              1              0                  1                 0                0                 0                0             1             0               0             0             0             0             0               0             1             0                 0                 1                 0                   0                   1                   0                   0                    0                   0                   0                   0                   0                   0                    0                   1                   1             0             0             0             0             0              0              0              0              1              0                 0                 0               1                 0                0                0                1                0                0                0                0               0               0               1               0                0                1                  0                0                0                   0                    0                    0                    1                   0                 0                   0                  1                  0               0               0                 0               1               0               0               0                 0               1               0              1              0              0              0                0                0                0              0              0              1              0                       0                      0                      1                      0                         1\n",
       "75.210667     7340      4             6             1971        1971            0.0           322.0         0.0           536.0        858.0          858         0           0                858          0.0             0.0             1          0          2              1              4              0           1979.0         1.0          684.0        0             0              0               0           0             0          0         6        2007     110000     0                0                0                0                1               0               0               0               0               0               0               0               0               0               0               0                  0             0                  0             1             0             1            0              0              0              0                 0                 1                 0                 0                 0                   0               0               1                  0               0               0                     0                    0                     0                     0                     0                     0                     0                     0                    0                     0                    0                     0                     0                     1                   0                     0                    0                     0                     0                     0                   0                    0                     0                     0                     0                    0                     0                  1                 0                 0                 0                 0                 0                 0                 0                  1                 0                 0                 0                 0                 0                 0                 0                 0                0                 0                   1                   0                   0                   0                   0                   0                 1                 0                   0               0                   0                0                  0                0               0                  0                  0                  0                     0                     0                     0                    0                     1                     0                     0                     0                     0                     0                   0                    0                     0                     0                     0                     0                     0                     0                    0                     1                     0                     0                     0                   0                     0                     0                   0                    0                     0                     0                     0                     0                    1                  0                   0              0              1              0              0              0              1              1                  0                 0                0                 0                0             0             0               0             1             0             0             0               0             1             0                 0                 1                 0                   0                   0                   0                   0                    0                   0                   0                   0                   0                   0                    0                   1                   1             0             0             0             0             0              0              0              1              1              0                 0                 0               1                 0                0                0                1                0                0                0                0               0               0               1               0                0                1                  0                0                0                   0                    0                    0                    1                   0                 0                   0                  1                  0               0               0                 0               1               0               0               0                 0               1               0              1              0              0              0                0                0                0              0              0              1              0                       0                      0                      1                      0                         1\n",
       "              7472      7             9             1972        2004            138.0         626.0         0.0           99.0         725.0          725         754         0                1479         1.0             0.0             1          1          4              1              7              0           1972.0         2.0          484.0        0             32             0               0           0             0          0         6        2007     184000     0                0                0                0                0               0               0               0               0               1               0               0               0               0               0               0                  0             0                  0             1             0             1            0              0              0              0                 0                 1                 0                 0                 1                   0               0               0                  0               0               0                     0                    0                     0                     0                     0                     0                     0                     0                    0                     0                    0                     0                     0                     1                   0                     0                    0                     0                     0                     0                   0                    0                     0                     0                     0                    0                     0                  1                 0                 0                 0                 0                 0                 0                 0                  1                 0                 0                 0                 0                 0                 0                 0                 0                0                 0                   0                   0                   0                   1                   0                   0                 1                 0                   0               0                   0                0                  0                0               0                  0                  0                  0                     0                     0                     0                    0                     1                     0                     0                     0                     0                     0                   0                    0                     0                     0                     0                     0                     0                     0                    0                     1                     0                     0                     0                   0                     0                     0                   0                    0                     0                     0                     1                     0                    0                  0                   0              0              1              0              0              0              1              1                  0                 0                0                 0                0             0             0               0             1             0             0             0               0             1             0                 0                 1                 0                   0                   0                   0                   0                    0                   0                   0                   0                   0                   0                    0                   1                   1             0             0             0             0             0              1              0              0              1              0                 0                 0               1                 0                1                0                0                0                0                0                0               0               0               1               0                0                1                  0                0                1                   0                    0                    0                    0                   0                 0                   0                  0                  0               0               0                 0               1               0               0               0                 0               1               0              1              0              0              0                0                0                0              0              0              1              0                       0                      0                      1                      0                         1\n",
       "              7500      5             7             1959        2003            0.0           574.0         0.0           466.0        1040.0         1040        0           0                1040         1.0             0.0             1          0          3              1              6              0           1959.0         1.0          286.0        0             0              0               0           0             0          0         7        2007     152000     0                0                0                0                1               0               0               0               0               0               0               0               0               0               0               0                  0             0                  0             1             0             1            0              0              1              0                 0                 1                 0                 0                 0                   0               0               1                  0               0               0                     0                    0                     0                     0                     0                     0                     0                     0                    0                     0                    0                     0                     0                     1                   0                     0                    0                     0                     0                     0                   0                    0                     0                     0                     0                    0                     0                  1                 0                 0                 0                 0                 0                 0                 0                  1                 0                 0                 0                 0                 0                 0                 0                 0                0                 0                   1                   0                   0                   0                   0                   0                 0                 0                   1               0                   0                0                  0                0               0                  0                  0                  0                     0                     1                     0                    0                     0                     0                     0                     0                     0                     0                   0                    0                     0                     0                     0                     0                     1                     0                    0                     0                     0                     0                     0                   0                     0                     0                   0                    0                     0                     0                     0                     0                    1                  0                   0              0              1              0              0              0              1              1                  0                 0                0                 0                0             0             0               0             1             0             0             0               0             1             0                 0                 1                 0                   0                   1                   0                   0                    0                   0                   0                   0                   0                   0                    0                   1                   1             0             0             0             0             0              0              0              0              1              0                 0                 0               1                 0                1                0                0                0                0                0                0               0               0               1               0                0                1                  0                0                1                   0                    0                    0                    0                   0                 0                   1                  0                  0               0               0                 0               1               0               0               0                 0               1               0              1              0              0              0                0                0                0              0              0              1              0                       0                      0                      1                      0                         1\n",
       "              7830      5             5             1970        1970            0.0           0.0           0.0           1180.0       1180.0         1180        0           0                1180         0.0             0.0             1          1          2              1              6              0           1970.0         2.0          477.0        0             45             0               0           0             0          0         3        2009     128000     0                0                0                0                1               0               0               0               0               0               0               0               0               0               0               0                  0             0                  0             1             0             1            0              0              0              0                 0                 1                 0                 0                 0                   0               0               1                  0               0               0                     0                    0                     0                     0                     0                     0                     0                     0                    0                     0                    0                     0                     0                     1                   0                     0                    0                     0                     0                     0                   0                    0                     0                     0                     0                    0                     0                  1                 0                 0                 0                 0                 0                 0                 0                  1                 0                 0                 0                 0                 0                 0                 0                 0                0                 0                   1                   0                   0                   0                   0                   0                 1                 0                   0               0                   0                0                  0                0               0                  0                  0                  0                     0                     0                     0                    0                     1                     0                     0                     0                     0                     0                   0                    0                     0                     0                     0                     0                     0                     0                    0                     1                     0                     0                     0                   0                     0                     0                   0                    0                     0                     0                     0                     0                    1                  0                   0              0              1              0              0              0              1              1                  0                 0                0                 0                0             0             0               0             1             0             0             0               0             1             0                 0                 1                 0                   0                   0                   0                   0                    0                   1                   0                   0                   0                   0                    0                   1                   1             0             0             0             0             0              0              0              1              1              0                 0                 0               1                 0                0                0                1                0                0                0                0               0               0               1               0                0                1                  0                0                1                   0                    0                    0                    0                   0                 0                   1                  0                  0               0               0                 0               1               0               0               0                 0               1               0              1              0              0              0                0                0                0              0              0              0              0                       0                      0                      1                      0                         1\n",
       "                                                                                                                                                                                                                                                                                                                                                                                                                                                                                                                                                                                                                                                                                                                                                                                                                                                                                                                                                                                                                                                                                                                                                                                                                                                                                                                                                                                                                                                                                                                                                                                                                                                                                                                                                                                                                                                                                                                                                                                                                                                                                                                                                                                                                                                                                                                                                                                                                                                                                                                                                                                                                                                                                                                                                                                                                                                                                                                                                                                                                                                                                                                                                                                                                                                                                                                                                                                                                                                                                                                                                                                                                                                                                                                                                                                                                                                                                                                                                                                                                                                                                                                                                                                                                                                                                                                                                                                                                                                                                                                                                                                                                                                                                                                                                                                                                                                                                                                                                                                                                                                        ..\n",
       "62.000000     6488      5             5             1942        1950            0.0           230.0         0.0           569.0        799.0          799         351         0                1150         0.0             0.0             1          0          3              1              6              2           1942.0         1.0          215.0        264           0              0               0           0             0          0         3        2006     128000     0                0                0                0                0               0               0               0               1               0               0               0               0               0               0               0                  0             0                  0             1             0             1            0              0              1              0                 0                 1                 0                 0                 0                   0               0               1                  0               0               0                     0                    0                     0                     0                     0                     1                     0                     0                    0                     0                    0                     0                     0                     0                   0                     0                    0                     0                     0                     0                   0                    0                     0                     0                     0                    0                     0                  1                 0                 0                 0                 0                 0                 0                 0                  1                 0                 0                 0                 0                 0                 0                 0                 0                0                 0                   0                   0                   0                   0                   0                   0                 1                 0                   0               0                   0                0                  0                0               0                  0                  0                  0                     0                     1                     0                    0                     0                     0                     0                     0                     0                     0                   0                    0                     0                     0                     0                     0                     0                     0                    0                     0                     0                     0                     0                   0                     0                     0                   0                    0                     1                     0                     0                     0                    1                  0                   0              0              1              0              0              0              1              0                  0                 0                0                 0                0             0             0               0             1             0             0             0               0             1             0                 0                 1                 0                   0                   0                   1                   0                    0                   0                   0                   0                   0                   0                    0                   1                   1             0             0             0             0             0              0              0              0              0              0                 0                 0               0                 0                0                0                1                0                0                0                1               0               0               0               0                0                0                  0                1                0                   0                    1                    0                    0                   0                 0                   0                  1                  0               0               0                 0               1               0               0               0                 0               1               0              1              0              0              0                0                0                0              0              0              1              0                       0                      1                      0                      0                         1\n",
       "              6710      6             5             1996        1997            134.0         16.0          904.0         0.0          920.0          936         0           0                936          2.0             0.0             0          1          0              1              3              0           1996.0         2.0          460.0        0             40             0               0           0             0          0         6        2007     140000     0                0                0                0                0               0               0               0               0               0               0               0               0               0               0               0                  0             0                  0             0             1             1            0              0              0              0                 0                 1                 0                 0                 0                   0               1               0                  0               0               0                     0                    0                     0                     0                     0                     0                     0                     0                    0                     0                    0                     0                     1                     0                   0                     0                    0                     0                     0                     0                   0                    0                     0                     0                     0                    0                     0                  1                 0                 0                 0                 0                 0                 0                 0                  1                 0                 0                 0                 0                 0                 0                 0                 0                1                 0                   0                   0                   0                   0                   1                   0                 1                 0                   0               0                   0                0                  0                0               0                  0                  0                  0                     0                     0                     0                    0                     0                     0                     0                     0                     0                     0                   0                    1                     0                     0                     0                     0                     0                     0                    0                     0                     0                     0                     0                   0                     0                     0                   0                    1                     0                     0                     1                     0                    0                  0                   0              0              1              0              0              0              1              0                  1                 0                0                 0                0             0             0               0             0             0             0             0               0             1             0                 0                 0                 0                   0                   0                   0                   0                    1                   0                   0                   1                   0                   0                    0                   0                   1             0             0             0             0             0              0              0              0              1              0                 0                 0               1                 0                0                0                1                0                0                0                0               0               0               1               0                0                1                  0                0                1                   0                    0                    0                    0                   0                 0                   0                  0                  0               0               0                 0               1               0               0               0                 0               1               0              1              0              0              0                0                0                0              0              0              1              0                       0                      0                      1                      0                         1\n",
       "              7006      6             6             1925        1950            0.0           121.0         0.0           647.0        768.0          788         448         0                1236         1.0             0.0             2          0          3              1              6              1           1985.0         1.0          384.0        0             0              0               0           0             0          0         8        2008     127000     0                0                0                0                0               0               0               0               1               0               0               0               0               0               0               0                  0             0                  0             0             1             1            0              0              1              0                 0                 1                 0                 0                 0                   0               0               1                  0               0               0                     0                    0                     0                     0                     0                     0                     0                     0                    0                     1                    0                     0                     0                     0                   0                     0                    0                     0                     0                     0                   0                    0                     0                     0                     0                    0                     0                  1                 0                 0                 0                 0                 0                 0                 0                  1                 0                 0                 0                 0                 0                 0                 0                 0                0                 0                   0                   0                   0                   0                   0                   0                 1                 0                   0               0                   0                0                  0                0               0                  0                  0                  0                     0                     0                     0                    0                     0                     0                     0                     0                     0                     0                   1                    0                     0                     0                     0                     0                     0                     0                    0                     0                     0                     0                     0                   0                     0                     0                   1                    0                     0                     0                     0                     0                    1                  0                   0              0              1              0              0              0              1              0                  1                 0                0                 0                0             0             0               0             1             0             0             0               0             1             0                 0                 1                 0                   0                   0                   0                   0                    1                   0                   0                   0                   0                   0                    0                   1                   1             0             0             0             0             0              0              0              1              1              0                 0                 0               1                 0                0                0                1                0                0                0                0               0               0               1               0                1                0                  0                0                0                   0                    0                    0                    1                   0                 0                   0                  1                  0               0               0                 0               1               0               0               0                 0               1               0              1              0              0              0                0                0                0              0              0              1              0                       0                      1                      0                      0                         1\n",
       "              7130      5             6             1967        1967            0.0           648.0         0.0           216.0        864.0          864         0           0                864          0.0             1.0             1          0          2              1              5              0           1967.0         1.0          312.0        0             0              0               0           0             0          0         6        2009     130000     0                0                0                0                1               0               0               0               0               0               0               0               0               0               0               0                  0             0                  0             1             0             1            0              0              1              0                 0                 1                 0                 0                 0                   0               0               1                  0               0               0                     0                    0                     0                     0                     0                     0                     0                     0                    0                     0                    0                     0                     0                     1                   0                     0                    0                     0                     0                     0                   0                    0                     0                     0                     0                    0                     0                  1                 0                 0                 0                 0                 0                 0                 0                  1                 0                 0                 0                 0                 0                 0                 0                 0                0                 0                   1                   0                   0                   0                   0                   0                 1                 0                   0               0                   0                0                  0                0               0                  0                  0                  0                     0                     0                     0                    0                     1                     0                     0                     0                     0                     0                   0                    0                     0                     0                     0                     0                     0                     0                    0                     1                     0                     0                     0                   0                     0                     0                   0                    0                     0                     0                     0                     0                    1                  0                   0              0              1              0              0              0              1              0                  1                 0                0                 0                0             0             0               0             1             0             0             0               0             1             0                 0                 1                 0                   1                   0                   0                   0                    0                   0                   0                   0                   0                   0                    0                   1                   1             0             0             0             0             0              0              0              1              1              0                 0                 0               1                 0                0                0                1                0                0                0                0               0               0               1               0                0                1                  0                0                1                   0                    0                    0                    0                   0                 0                   0                  0                  0               0               0                 0               1               0               0               0                 0               1               0              1              0              0              0                0                0                0              0              0              1              0                       0                      0                      1                      0                         1\n",
       "313.000000    27650     7             7             1960        2007            0.0           425.0         0.0           160.0        585.0          2069        0           0                2069         1.0             0.0             2          0          4              1              9              1           1960.0         2.0          505.0        0             0              0               0           0             0          0         11       2008     242000     0                0                0                0                1               0               0               0               0               0               0               0               0               0               0               0                  0             0                  0             1             0             1            1              0              0              1                 0                 0                 0                 0                 0                   0               0               1                  1               0               0                     0                    0                     0                     0                     0                     0                     0                     0                    0                     0                    0                     0                     0                     1                   0                     0                    0                     0                     0                     0                   0                    0                     0                     0                     0                    0                     0                  0                 1                 0                 0                 0                 0                 0                 0                  1                 0                 0                 0                 0                 0                 0                 0                 0                0                 0                   1                   0                   0                   0                   0                   0                 0                 0                   0               0                   0                0                  0                0               1                  0                  0                  0                     0                     0                     0                    0                     0                     0                     0                     0                     0                     0                   0                    0                     1                     0                     0                     0                     0                     0                    0                     0                     0                     0                     0                   0                     0                     0                   0                    0                     1                     0                     0                     0                    1                  0                   0              0              1              0              0              0              1              1                  0                 0                0                 0                0             1             0               0             0             0             0             0               0             1             1                 0                 0                 0                   0                   1                   0                   0                    0                   0                   0                   0                   0                   0                    0                   1                   1             0             0             0             0             0              0              0              0              1              0                 0                 0               1                 0                1                0                0                0                0                0                0               0               0               1               0                1                0                  0                0                1                   0                    0                    0                    0                   0                 0                   1                  0                  0               0               0                 0               1               0               0               0                 0               1               0              1              0              0              0                0                0                0              0              0              1              0                       0                      0                      1                      0                         1\n",
       "Length: 2925, dtype: int64"
      ]
     },
     "execution_count": 9,
     "metadata": {},
     "output_type": "execute_result"
    }
   ],
   "source": [
    "df.value_counts()"
   ]
  },
  {
   "cell_type": "code",
   "execution_count": 4,
   "metadata": {},
   "outputs": [
    {
     "name": "stdout",
     "output_type": "stream",
     "text": [
      "<class 'pandas.core.frame.DataFrame'>\n",
      "RangeIndex: 2925 entries, 0 to 2924\n",
      "Columns: 274 entries, Lot Frontage to Sale Condition_Partial\n",
      "dtypes: float64(11), int64(263)\n",
      "memory usage: 6.1 MB\n"
     ]
    }
   ],
   "source": [
    "df.info()"
   ]
  },
  {
   "cell_type": "markdown",
   "metadata": {},
   "source": [
    "**TASK: The label we are trying to predict is the SalePrice column. Separate out the data into X features and y labels**"
   ]
  },
  {
   "cell_type": "code",
   "execution_count": 10,
   "metadata": {},
   "outputs": [],
   "source": [
    "X = df.drop('SalePrice',axis=1)\n",
    "y = df['SalePrice']"
   ]
  },
  {
   "cell_type": "markdown",
   "metadata": {},
   "source": [
    "**TASK: Use scikit-learn to split up X and y into a training set and test set. Since we will later be using a Grid Search strategy, set your test proportion to 10%. To get the same data split as the solutions notebook, you can specify random_state = 101**"
   ]
  },
  {
   "cell_type": "code",
   "execution_count": 12,
   "metadata": {},
   "outputs": [],
   "source": [
    "from sklearn.model_selection import train_test_split"
   ]
  },
  {
   "cell_type": "code",
   "execution_count": 13,
   "metadata": {},
   "outputs": [],
   "source": [
    "X_train, X_test, y_train, y_test = train_test_split(X, y, test_size=0.10, random_state=101)"
   ]
  },
  {
   "cell_type": "markdown",
   "metadata": {},
   "source": [
    "**TASK: The dataset features has a variety of scales and units. For optimal regression performance, scale the X features. Take carefuly note of what to use for .fit() vs what to use for .transform()**"
   ]
  },
  {
   "cell_type": "code",
   "execution_count": 14,
   "metadata": {},
   "outputs": [],
   "source": [
    "from sklearn.preprocessing import StandardScaler"
   ]
  },
  {
   "cell_type": "code",
   "execution_count": 15,
   "metadata": {},
   "outputs": [],
   "source": [
    "scaler = StandardScaler()"
   ]
  },
  {
   "cell_type": "code",
   "execution_count": 16,
   "metadata": {},
   "outputs": [],
   "source": [
    "scaled_X_train = scaler.fit_transform(X_train)\n",
    "scaled_X_test = scaler.transform(X_test)"
   ]
  },
  {
   "cell_type": "markdown",
   "metadata": {},
   "source": [
    "**TASK: We will use an Elastic Net model. Create an instance of default ElasticNet model with scikit-learn**"
   ]
  },
  {
   "cell_type": "code",
   "execution_count": 17,
   "metadata": {},
   "outputs": [],
   "source": [
    "from sklearn.linear_model import ElasticNet"
   ]
  },
  {
   "cell_type": "code",
   "execution_count": 18,
   "metadata": {},
   "outputs": [],
   "source": [
    "base_elastic_model = ElasticNet()"
   ]
  },
  {
   "cell_type": "markdown",
   "metadata": {},
   "source": [
    "**TASK:  The Elastic Net model has two main parameters, alpha and the L1 ratio. Create a dictionary parameter grid of values for the ElasticNet. Feel free to play around with these values, keep in mind, you may not match up exactly with the solution choices**"
   ]
  },
  {
   "cell_type": "code",
   "execution_count": 19,
   "metadata": {},
   "outputs": [],
   "source": [
    "param_grid = {'alpha':[0.1,1,5,10,50,100],'l1_ratio':[.1, .5, .7, .9, .95, .99, 1]}"
   ]
  },
  {
   "cell_type": "markdown",
   "metadata": {},
   "source": [
    "**TASK: Using scikit-learn create a GridSearchCV object and run a grid search for the best parameters for your model based on your scaled training data. [In case you are curious about the warnings you may recieve for certain parameter combinations](https://stackoverflow.com/questions/20681864/lasso-on-sklearn-does-not-converge)**"
   ]
  },
  {
   "cell_type": "code",
   "execution_count": 20,
   "metadata": {},
   "outputs": [],
   "source": [
    "from sklearn.model_selection import GridSearchCV"
   ]
  },
  {
   "cell_type": "code",
   "execution_count": 22,
   "metadata": {},
   "outputs": [],
   "source": [
    "grid_model = GridSearchCV(estimator=base_elastic_model,param_grid=param_grid,\n",
    "                          scoring='neg_mean_squared_error',\n",
    "                          cv=5,\n",
    "                          verbose=1)"
   ]
  },
  {
   "cell_type": "code",
   "execution_count": 23,
   "metadata": {},
   "outputs": [],
   "source": [
    "# verbose number a personal preference\n",
    "grid_model = GridSearchCV(estimator=base_elastic_model,\n",
    "                          param_grid=param_grid,\n",
    "                          scoring='neg_mean_squared_error',\n",
    "                          cv=5,\n",
    "                          verbose=1)"
   ]
  },
  {
   "cell_type": "markdown",
   "metadata": {},
   "source": [
    "**TASK: Display the best combination of parameters for your model**"
   ]
  },
  {
   "cell_type": "code",
   "execution_count": 24,
   "metadata": {},
   "outputs": [
    {
     "name": "stdout",
     "output_type": "stream",
     "text": [
      "Fitting 5 folds for each of 42 candidates, totalling 210 fits\n"
     ]
    },
    {
     "name": "stderr",
     "output_type": "stream",
     "text": [
      "c:\\Users\\Ravi Nadageri\\Python_3_10\\lib\\site-packages\\sklearn\\linear_model\\_coordinate_descent.py:648: ConvergenceWarning: Objective did not converge. You might want to increase the number of iterations, check the scale of the features or consider increasing regularisation. Duality gap: 1.394e+11, tolerance: 1.355e+09\n",
      "  model = cd_fast.enet_coordinate_descent(\n",
      "c:\\Users\\Ravi Nadageri\\Python_3_10\\lib\\site-packages\\sklearn\\linear_model\\_coordinate_descent.py:648: ConvergenceWarning: Objective did not converge. You might want to increase the number of iterations, check the scale of the features or consider increasing regularisation. Duality gap: 1.654e+11, tolerance: 1.308e+09\n",
      "  model = cd_fast.enet_coordinate_descent(\n",
      "c:\\Users\\Ravi Nadageri\\Python_3_10\\lib\\site-packages\\sklearn\\linear_model\\_coordinate_descent.py:648: ConvergenceWarning: Objective did not converge. You might want to increase the number of iterations, check the scale of the features or consider increasing regularisation. Duality gap: 1.324e+11, tolerance: 1.415e+09\n",
      "  model = cd_fast.enet_coordinate_descent(\n",
      "c:\\Users\\Ravi Nadageri\\Python_3_10\\lib\\site-packages\\sklearn\\linear_model\\_coordinate_descent.py:648: ConvergenceWarning: Objective did not converge. You might want to increase the number of iterations, check the scale of the features or consider increasing regularisation. Duality gap: 1.986e+11, tolerance: 1.438e+09\n",
      "  model = cd_fast.enet_coordinate_descent(\n",
      "c:\\Users\\Ravi Nadageri\\Python_3_10\\lib\\site-packages\\sklearn\\linear_model\\_coordinate_descent.py:648: ConvergenceWarning: Objective did not converge. You might want to increase the number of iterations, check the scale of the features or consider increasing regularisation. Duality gap: 1.553e+11, tolerance: 1.346e+09\n",
      "  model = cd_fast.enet_coordinate_descent(\n",
      "c:\\Users\\Ravi Nadageri\\Python_3_10\\lib\\site-packages\\sklearn\\linear_model\\_coordinate_descent.py:648: ConvergenceWarning: Objective did not converge. You might want to increase the number of iterations, check the scale of the features or consider increasing regularisation. Duality gap: 3.235e+11, tolerance: 1.355e+09\n",
      "  model = cd_fast.enet_coordinate_descent(\n",
      "c:\\Users\\Ravi Nadageri\\Python_3_10\\lib\\site-packages\\sklearn\\linear_model\\_coordinate_descent.py:648: ConvergenceWarning: Objective did not converge. You might want to increase the number of iterations, check the scale of the features or consider increasing regularisation. Duality gap: 3.369e+11, tolerance: 1.308e+09\n",
      "  model = cd_fast.enet_coordinate_descent(\n",
      "c:\\Users\\Ravi Nadageri\\Python_3_10\\lib\\site-packages\\sklearn\\linear_model\\_coordinate_descent.py:648: ConvergenceWarning: Objective did not converge. You might want to increase the number of iterations, check the scale of the features or consider increasing regularisation. Duality gap: 3.575e+11, tolerance: 1.415e+09\n",
      "  model = cd_fast.enet_coordinate_descent(\n",
      "c:\\Users\\Ravi Nadageri\\Python_3_10\\lib\\site-packages\\sklearn\\linear_model\\_coordinate_descent.py:648: ConvergenceWarning: Objective did not converge. You might want to increase the number of iterations, check the scale of the features or consider increasing regularisation. Duality gap: 3.887e+11, tolerance: 1.438e+09\n",
      "  model = cd_fast.enet_coordinate_descent(\n",
      "c:\\Users\\Ravi Nadageri\\Python_3_10\\lib\\site-packages\\sklearn\\linear_model\\_coordinate_descent.py:648: ConvergenceWarning: Objective did not converge. You might want to increase the number of iterations, check the scale of the features or consider increasing regularisation. Duality gap: 2.928e+11, tolerance: 1.346e+09\n",
      "  model = cd_fast.enet_coordinate_descent(\n",
      "c:\\Users\\Ravi Nadageri\\Python_3_10\\lib\\site-packages\\sklearn\\linear_model\\_coordinate_descent.py:648: ConvergenceWarning: Objective did not converge. You might want to increase the number of iterations, check the scale of the features or consider increasing regularisation. Duality gap: 3.542e+11, tolerance: 1.355e+09\n",
      "  model = cd_fast.enet_coordinate_descent(\n",
      "c:\\Users\\Ravi Nadageri\\Python_3_10\\lib\\site-packages\\sklearn\\linear_model\\_coordinate_descent.py:648: ConvergenceWarning: Objective did not converge. You might want to increase the number of iterations, check the scale of the features or consider increasing regularisation. Duality gap: 3.635e+11, tolerance: 1.308e+09\n",
      "  model = cd_fast.enet_coordinate_descent(\n",
      "c:\\Users\\Ravi Nadageri\\Python_3_10\\lib\\site-packages\\sklearn\\linear_model\\_coordinate_descent.py:648: ConvergenceWarning: Objective did not converge. You might want to increase the number of iterations, check the scale of the features or consider increasing regularisation. Duality gap: 4.085e+11, tolerance: 1.415e+09\n",
      "  model = cd_fast.enet_coordinate_descent(\n",
      "c:\\Users\\Ravi Nadageri\\Python_3_10\\lib\\site-packages\\sklearn\\linear_model\\_coordinate_descent.py:648: ConvergenceWarning: Objective did not converge. You might want to increase the number of iterations, check the scale of the features or consider increasing regularisation. Duality gap: 4.071e+11, tolerance: 1.438e+09\n",
      "  model = cd_fast.enet_coordinate_descent(\n",
      "c:\\Users\\Ravi Nadageri\\Python_3_10\\lib\\site-packages\\sklearn\\linear_model\\_coordinate_descent.py:648: ConvergenceWarning: Objective did not converge. You might want to increase the number of iterations, check the scale of the features or consider increasing regularisation. Duality gap: 3.553e+11, tolerance: 1.346e+09\n",
      "  model = cd_fast.enet_coordinate_descent(\n",
      "c:\\Users\\Ravi Nadageri\\Python_3_10\\lib\\site-packages\\sklearn\\linear_model\\_coordinate_descent.py:648: ConvergenceWarning: Objective did not converge. You might want to increase the number of iterations, check the scale of the features or consider increasing regularisation. Duality gap: 3.498e+11, tolerance: 1.355e+09\n",
      "  model = cd_fast.enet_coordinate_descent(\n",
      "c:\\Users\\Ravi Nadageri\\Python_3_10\\lib\\site-packages\\sklearn\\linear_model\\_coordinate_descent.py:648: ConvergenceWarning: Objective did not converge. You might want to increase the number of iterations, check the scale of the features or consider increasing regularisation. Duality gap: 3.591e+11, tolerance: 1.308e+09\n",
      "  model = cd_fast.enet_coordinate_descent(\n",
      "c:\\Users\\Ravi Nadageri\\Python_3_10\\lib\\site-packages\\sklearn\\linear_model\\_coordinate_descent.py:648: ConvergenceWarning: Objective did not converge. You might want to increase the number of iterations, check the scale of the features or consider increasing regularisation. Duality gap: 4.066e+11, tolerance: 1.415e+09\n",
      "  model = cd_fast.enet_coordinate_descent(\n",
      "c:\\Users\\Ravi Nadageri\\Python_3_10\\lib\\site-packages\\sklearn\\linear_model\\_coordinate_descent.py:648: ConvergenceWarning: Objective did not converge. You might want to increase the number of iterations, check the scale of the features or consider increasing regularisation. Duality gap: 4.028e+11, tolerance: 1.438e+09\n",
      "  model = cd_fast.enet_coordinate_descent(\n",
      "c:\\Users\\Ravi Nadageri\\Python_3_10\\lib\\site-packages\\sklearn\\linear_model\\_coordinate_descent.py:648: ConvergenceWarning: Objective did not converge. You might want to increase the number of iterations, check the scale of the features or consider increasing regularisation. Duality gap: 3.687e+11, tolerance: 1.346e+09\n",
      "  model = cd_fast.enet_coordinate_descent(\n",
      "c:\\Users\\Ravi Nadageri\\Python_3_10\\lib\\site-packages\\sklearn\\linear_model\\_coordinate_descent.py:648: ConvergenceWarning: Objective did not converge. You might want to increase the number of iterations, check the scale of the features or consider increasing regularisation. Duality gap: 3.025e+11, tolerance: 1.355e+09\n",
      "  model = cd_fast.enet_coordinate_descent(\n",
      "c:\\Users\\Ravi Nadageri\\Python_3_10\\lib\\site-packages\\sklearn\\linear_model\\_coordinate_descent.py:648: ConvergenceWarning: Objective did not converge. You might want to increase the number of iterations, check the scale of the features or consider increasing regularisation. Duality gap: 3.127e+11, tolerance: 1.308e+09\n",
      "  model = cd_fast.enet_coordinate_descent(\n",
      "c:\\Users\\Ravi Nadageri\\Python_3_10\\lib\\site-packages\\sklearn\\linear_model\\_coordinate_descent.py:648: ConvergenceWarning: Objective did not converge. You might want to increase the number of iterations, check the scale of the features or consider increasing regularisation. Duality gap: 3.475e+11, tolerance: 1.415e+09\n",
      "  model = cd_fast.enet_coordinate_descent(\n",
      "c:\\Users\\Ravi Nadageri\\Python_3_10\\lib\\site-packages\\sklearn\\linear_model\\_coordinate_descent.py:648: ConvergenceWarning: Objective did not converge. You might want to increase the number of iterations, check the scale of the features or consider increasing regularisation. Duality gap: 3.526e+11, tolerance: 1.438e+09\n",
      "  model = cd_fast.enet_coordinate_descent(\n",
      "c:\\Users\\Ravi Nadageri\\Python_3_10\\lib\\site-packages\\sklearn\\linear_model\\_coordinate_descent.py:648: ConvergenceWarning: Objective did not converge. You might want to increase the number of iterations, check the scale of the features or consider increasing regularisation. Duality gap: 2.559e+11, tolerance: 1.346e+09\n",
      "  model = cd_fast.enet_coordinate_descent(\n",
      "c:\\Users\\Ravi Nadageri\\Python_3_10\\lib\\site-packages\\sklearn\\linear_model\\_coordinate_descent.py:648: ConvergenceWarning: Objective did not converge. You might want to increase the number of iterations, check the scale of the features or consider increasing regularisation. Duality gap: 1.707e+11, tolerance: 1.355e+09\n",
      "  model = cd_fast.enet_coordinate_descent(\n",
      "c:\\Users\\Ravi Nadageri\\Python_3_10\\lib\\site-packages\\sklearn\\linear_model\\_coordinate_descent.py:648: ConvergenceWarning: Objective did not converge. You might want to increase the number of iterations, check the scale of the features or consider increasing regularisation. Duality gap: 1.869e+11, tolerance: 1.308e+09\n",
      "  model = cd_fast.enet_coordinate_descent(\n",
      "c:\\Users\\Ravi Nadageri\\Python_3_10\\lib\\site-packages\\sklearn\\linear_model\\_coordinate_descent.py:648: ConvergenceWarning: Objective did not converge. You might want to increase the number of iterations, check the scale of the features or consider increasing regularisation. Duality gap: 1.965e+11, tolerance: 1.415e+09\n",
      "  model = cd_fast.enet_coordinate_descent(\n",
      "c:\\Users\\Ravi Nadageri\\Python_3_10\\lib\\site-packages\\sklearn\\linear_model\\_coordinate_descent.py:648: ConvergenceWarning: Objective did not converge. You might want to increase the number of iterations, check the scale of the features or consider increasing regularisation. Duality gap: 2.128e+11, tolerance: 1.438e+09\n",
      "  model = cd_fast.enet_coordinate_descent(\n",
      "c:\\Users\\Ravi Nadageri\\Python_3_10\\lib\\site-packages\\sklearn\\linear_model\\_coordinate_descent.py:648: ConvergenceWarning: Objective did not converge. You might want to increase the number of iterations, check the scale of the features or consider increasing regularisation. Duality gap: 4.849e+09, tolerance: 1.346e+09\n",
      "  model = cd_fast.enet_coordinate_descent(\n",
      "c:\\Users\\Ravi Nadageri\\Python_3_10\\lib\\site-packages\\sklearn\\linear_model\\_coordinate_descent.py:648: ConvergenceWarning: Objective did not converge. You might want to increase the number of iterations, check the scale of the features or consider increasing regularisation. Duality gap: 1.313e+10, tolerance: 1.355e+09\n",
      "  model = cd_fast.enet_coordinate_descent(\n",
      "c:\\Users\\Ravi Nadageri\\Python_3_10\\lib\\site-packages\\sklearn\\linear_model\\_coordinate_descent.py:648: ConvergenceWarning: Objective did not converge. You might want to increase the number of iterations, check the scale of the features or consider increasing regularisation. Duality gap: 4.414e+09, tolerance: 1.308e+09\n",
      "  model = cd_fast.enet_coordinate_descent(\n",
      "c:\\Users\\Ravi Nadageri\\Python_3_10\\lib\\site-packages\\sklearn\\linear_model\\_coordinate_descent.py:648: ConvergenceWarning: Objective did not converge. You might want to increase the number of iterations, check the scale of the features or consider increasing regularisation. Duality gap: 3.628e+10, tolerance: 1.415e+09\n",
      "  model = cd_fast.enet_coordinate_descent(\n",
      "c:\\Users\\Ravi Nadageri\\Python_3_10\\lib\\site-packages\\sklearn\\linear_model\\_coordinate_descent.py:648: ConvergenceWarning: Objective did not converge. You might want to increase the number of iterations, check the scale of the features or consider increasing regularisation. Duality gap: 3.970e+09, tolerance: 1.438e+09\n",
      "  model = cd_fast.enet_coordinate_descent(\n"
     ]
    },
    {
     "data": {
      "text/html": [
       "<style>#sk-container-id-1 {color: black;background-color: white;}#sk-container-id-1 pre{padding: 0;}#sk-container-id-1 div.sk-toggleable {background-color: white;}#sk-container-id-1 label.sk-toggleable__label {cursor: pointer;display: block;width: 100%;margin-bottom: 0;padding: 0.3em;box-sizing: border-box;text-align: center;}#sk-container-id-1 label.sk-toggleable__label-arrow:before {content: \"▸\";float: left;margin-right: 0.25em;color: #696969;}#sk-container-id-1 label.sk-toggleable__label-arrow:hover:before {color: black;}#sk-container-id-1 div.sk-estimator:hover label.sk-toggleable__label-arrow:before {color: black;}#sk-container-id-1 div.sk-toggleable__content {max-height: 0;max-width: 0;overflow: hidden;text-align: left;background-color: #f0f8ff;}#sk-container-id-1 div.sk-toggleable__content pre {margin: 0.2em;color: black;border-radius: 0.25em;background-color: #f0f8ff;}#sk-container-id-1 input.sk-toggleable__control:checked~div.sk-toggleable__content {max-height: 200px;max-width: 100%;overflow: auto;}#sk-container-id-1 input.sk-toggleable__control:checked~label.sk-toggleable__label-arrow:before {content: \"▾\";}#sk-container-id-1 div.sk-estimator input.sk-toggleable__control:checked~label.sk-toggleable__label {background-color: #d4ebff;}#sk-container-id-1 div.sk-label input.sk-toggleable__control:checked~label.sk-toggleable__label {background-color: #d4ebff;}#sk-container-id-1 input.sk-hidden--visually {border: 0;clip: rect(1px 1px 1px 1px);clip: rect(1px, 1px, 1px, 1px);height: 1px;margin: -1px;overflow: hidden;padding: 0;position: absolute;width: 1px;}#sk-container-id-1 div.sk-estimator {font-family: monospace;background-color: #f0f8ff;border: 1px dotted black;border-radius: 0.25em;box-sizing: border-box;margin-bottom: 0.5em;}#sk-container-id-1 div.sk-estimator:hover {background-color: #d4ebff;}#sk-container-id-1 div.sk-parallel-item::after {content: \"\";width: 100%;border-bottom: 1px solid gray;flex-grow: 1;}#sk-container-id-1 div.sk-label:hover label.sk-toggleable__label {background-color: #d4ebff;}#sk-container-id-1 div.sk-serial::before {content: \"\";position: absolute;border-left: 1px solid gray;box-sizing: border-box;top: 0;bottom: 0;left: 50%;z-index: 0;}#sk-container-id-1 div.sk-serial {display: flex;flex-direction: column;align-items: center;background-color: white;padding-right: 0.2em;padding-left: 0.2em;position: relative;}#sk-container-id-1 div.sk-item {position: relative;z-index: 1;}#sk-container-id-1 div.sk-parallel {display: flex;align-items: stretch;justify-content: center;background-color: white;position: relative;}#sk-container-id-1 div.sk-item::before, #sk-container-id-1 div.sk-parallel-item::before {content: \"\";position: absolute;border-left: 1px solid gray;box-sizing: border-box;top: 0;bottom: 0;left: 50%;z-index: -1;}#sk-container-id-1 div.sk-parallel-item {display: flex;flex-direction: column;z-index: 1;position: relative;background-color: white;}#sk-container-id-1 div.sk-parallel-item:first-child::after {align-self: flex-end;width: 50%;}#sk-container-id-1 div.sk-parallel-item:last-child::after {align-self: flex-start;width: 50%;}#sk-container-id-1 div.sk-parallel-item:only-child::after {width: 0;}#sk-container-id-1 div.sk-dashed-wrapped {border: 1px dashed gray;margin: 0 0.4em 0.5em 0.4em;box-sizing: border-box;padding-bottom: 0.4em;background-color: white;}#sk-container-id-1 div.sk-label label {font-family: monospace;font-weight: bold;display: inline-block;line-height: 1.2em;}#sk-container-id-1 div.sk-label-container {text-align: center;}#sk-container-id-1 div.sk-container {/* jupyter's `normalize.less` sets `[hidden] { display: none; }` but bootstrap.min.css set `[hidden] { display: none !important; }` so we also need the `!important` here to be able to override the default hidden behavior on the sphinx rendered scikit-learn.org. See: https://github.com/scikit-learn/scikit-learn/issues/21755 */display: inline-block !important;position: relative;}#sk-container-id-1 div.sk-text-repr-fallback {display: none;}</style><div id=\"sk-container-id-1\" class=\"sk-top-container\"><div class=\"sk-text-repr-fallback\"><pre>GridSearchCV(cv=5, estimator=ElasticNet(),\n",
       "             param_grid={&#x27;alpha&#x27;: [0.1, 1, 5, 10, 50, 100],\n",
       "                         &#x27;l1_ratio&#x27;: [0.1, 0.5, 0.7, 0.9, 0.95, 0.99, 1]},\n",
       "             scoring=&#x27;neg_mean_squared_error&#x27;, verbose=1)</pre><b>In a Jupyter environment, please rerun this cell to show the HTML representation or trust the notebook. <br />On GitHub, the HTML representation is unable to render, please try loading this page with nbviewer.org.</b></div><div class=\"sk-container\" hidden><div class=\"sk-item sk-dashed-wrapped\"><div class=\"sk-label-container\"><div class=\"sk-label sk-toggleable\"><input class=\"sk-toggleable__control sk-hidden--visually\" id=\"sk-estimator-id-1\" type=\"checkbox\" ><label for=\"sk-estimator-id-1\" class=\"sk-toggleable__label sk-toggleable__label-arrow\">GridSearchCV</label><div class=\"sk-toggleable__content\"><pre>GridSearchCV(cv=5, estimator=ElasticNet(),\n",
       "             param_grid={&#x27;alpha&#x27;: [0.1, 1, 5, 10, 50, 100],\n",
       "                         &#x27;l1_ratio&#x27;: [0.1, 0.5, 0.7, 0.9, 0.95, 0.99, 1]},\n",
       "             scoring=&#x27;neg_mean_squared_error&#x27;, verbose=1)</pre></div></div></div><div class=\"sk-parallel\"><div class=\"sk-parallel-item\"><div class=\"sk-item\"><div class=\"sk-label-container\"><div class=\"sk-label sk-toggleable\"><input class=\"sk-toggleable__control sk-hidden--visually\" id=\"sk-estimator-id-2\" type=\"checkbox\" ><label for=\"sk-estimator-id-2\" class=\"sk-toggleable__label sk-toggleable__label-arrow\">estimator: ElasticNet</label><div class=\"sk-toggleable__content\"><pre>ElasticNet()</pre></div></div></div><div class=\"sk-serial\"><div class=\"sk-item\"><div class=\"sk-estimator sk-toggleable\"><input class=\"sk-toggleable__control sk-hidden--visually\" id=\"sk-estimator-id-3\" type=\"checkbox\" ><label for=\"sk-estimator-id-3\" class=\"sk-toggleable__label sk-toggleable__label-arrow\">ElasticNet</label><div class=\"sk-toggleable__content\"><pre>ElasticNet()</pre></div></div></div></div></div></div></div></div></div></div>"
      ],
      "text/plain": [
       "GridSearchCV(cv=5, estimator=ElasticNet(),\n",
       "             param_grid={'alpha': [0.1, 1, 5, 10, 50, 100],\n",
       "                         'l1_ratio': [0.1, 0.5, 0.7, 0.9, 0.95, 0.99, 1]},\n",
       "             scoring='neg_mean_squared_error', verbose=1)"
      ]
     },
     "execution_count": 24,
     "metadata": {},
     "output_type": "execute_result"
    }
   ],
   "source": [
    "grid_model.fit(scaled_X_train,y_train)"
   ]
  },
  {
   "cell_type": "markdown",
   "metadata": {},
   "source": [
    "**TASK: Evaluate your model's performance on the unseen 10% scaled test set. In the solutions notebook we achieved an MAE of $\\$$14149 and a RMSE of $\\$$20532**"
   ]
  },
  {
   "cell_type": "code",
   "execution_count": 25,
   "metadata": {},
   "outputs": [
    {
     "data": {
      "text/plain": [
       "{'alpha': 100, 'l1_ratio': 1}"
      ]
     },
     "execution_count": 25,
     "metadata": {},
     "output_type": "execute_result"
    }
   ],
   "source": [
    "grid_model.best_params_"
   ]
  },
  {
   "cell_type": "code",
   "execution_count": 27,
   "metadata": {},
   "outputs": [],
   "source": [
    "y_pred = grid_model.predict(scaled_X_test)"
   ]
  },
  {
   "cell_type": "code",
   "execution_count": 28,
   "metadata": {},
   "outputs": [],
   "source": [
    "from sklearn.metrics import mean_absolute_error,mean_squared_error"
   ]
  },
  {
   "cell_type": "code",
   "execution_count": 29,
   "metadata": {},
   "outputs": [
    {
     "data": {
      "text/plain": [
       "14195.35490056217"
      ]
     },
     "execution_count": 29,
     "metadata": {},
     "output_type": "execute_result"
    }
   ],
   "source": [
    "mean_absolute_error(y_test,y_pred)"
   ]
  },
  {
   "cell_type": "code",
   "execution_count": 30,
   "metadata": {},
   "outputs": [
    {
     "data": {
      "text/plain": [
       "20558.50856689317"
      ]
     },
     "execution_count": 30,
     "metadata": {},
     "output_type": "execute_result"
    }
   ],
   "source": [
    "np.sqrt(mean_squared_error(y_test,y_pred))"
   ]
  },
  {
   "cell_type": "markdown",
   "metadata": {},
   "source": [
    "## Great work!\n",
    "\n",
    "----"
   ]
  }
 ],
 "metadata": {
  "kernelspec": {
   "display_name": "Python 3",
   "language": "python",
   "name": "python3"
  },
  "language_info": {
   "codemirror_mode": {
    "name": "ipython",
    "version": 3
   },
   "file_extension": ".py",
   "mimetype": "text/x-python",
   "name": "python",
   "nbconvert_exporter": "python",
   "pygments_lexer": "ipython3",
   "version": "3.10.6"
  }
 },
 "nbformat": 4,
 "nbformat_minor": 2
}
